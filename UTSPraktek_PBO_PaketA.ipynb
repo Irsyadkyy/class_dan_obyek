{
  "nbformat": 4,
  "nbformat_minor": 0,
  "metadata": {
    "colab": {
      "provenance": [],
      "include_colab_link": true
    },
    "kernelspec": {
      "name": "python3",
      "display_name": "Python 3"
    },
    "language_info": {
      "name": "python"
    }
  },
  "cells": [
    {
      "cell_type": "markdown",
      "metadata": {
        "id": "view-in-github",
        "colab_type": "text"
      },
      "source": [
        "<a href=\"https://colab.research.google.com/github/Irsyadkyy/class_dan_obyek/blob/main/UTSPraktek_PBO_PaketA.ipynb\" target=\"_parent\"><img src=\"https://colab.research.google.com/assets/colab-badge.svg\" alt=\"Open In Colab\"/></a>"
      ]
    },
    {
      "cell_type": "markdown",
      "source": [
        "**Sistem Manajemen Buku Perpustakaan**\n",
        "\n",
        "Anda adalah seorang pengembang perangkat lunak yang bekerja untuk perpustakaan besar. Perpustakaan ini memiliki kelas induk Buku dengan atribut berikut:\n",
        "*   kode unik\n",
        "*   judul\n",
        "*   nama pengarang\n",
        "*   tahun terbit\n",
        "\n",
        "Selain itu, perpustakaan ini memiliki dua jenis buku spesifik yaitu Fiksi dan Non Fiksi\n",
        "\n",
        "Buku fiksi memiliki atribut tambahan genre (genre atau jenis fiksi buku, misalnya, roman, fantasi, dll.)\n",
        "\n",
        "Sementara buku non-fiksi memiliki atribut tambahan subjek (subjek atau topik buku non-fiksi, misalnya, sejarah, sains, dll.)\n",
        "\n",
        "Manajemen perpustakaan ingin Anda membuat program Python yang memungkinkan mereka untuk mencetak informasi tentang setiap buku, termasuk kode buku, judul, pengarang, tahun terbit, serta atribut tambahan yang sesuai (genre atau subjek).\n",
        "\n",
        "Buatlah program yang terdiri dari class-class yang dibutuhkan dan program utama yang digunakan untuk menjalankan class-class yang telah dibuat.\n",
        "\n",
        "Selamat mengerjakan!"
      ],
      "metadata": {
        "id": "JXbejHFnmH53"
      }
    },
    {
      "cell_type": "code",
      "execution_count": 57,
      "metadata": {
        "id": "8oo4WH4vlUD2"
      },
      "outputs": [],
      "source": [
        "## Class Buku\n",
        "\n",
        "class Buku:\n",
        "    def __init__(self, kode, judul, pengarang, tahun):\n",
        "        self.kode = kode\n",
        "        self.judul = judul\n",
        "        self.pengarang = pengarang\n",
        "        self.tahun = tahun\n",
        "\n",
        "    def info(self):\n",
        "        print(f\"Kode Buku: {self.kode}\")\n",
        "        print(f\"Judul: {self.judul}\")\n",
        "        print(f\"Pengarang: {self.pengarang}\")\n",
        "        print(f\"Tahun Terbit: {self.tahun}\")"
      ]
    },
    {
      "cell_type": "code",
      "source": [
        "\n",
        "#class Fiksi(Buku):\n",
        "\n",
        "class Fiksi(Buku):\n",
        "    def __init__(self, kode, judul, pengarang, tahun, genre):\n",
        "        super().__init__(kode, judul, pengarang, tahun)\n",
        "        self.genre = genre\n",
        "\n",
        "    def info(self):\n",
        "        super().info()\n",
        "        print(f\"Genre: {self.genre}\")"
      ],
      "metadata": {
        "id": "fV76ZsOapgyM"
      },
      "execution_count": 59,
      "outputs": []
    },
    {
      "cell_type": "code",
      "source": [
        "#class Fiksi(Buku):\n",
        "class NonFiksi(Buku):\n",
        "    def __init__(self, kode, judul, pengarang, tahun, subjek):\n",
        "        super().__init__(kode, judul, pengarang, tahun)\n",
        "        self.subjek = subjek\n",
        "\n",
        "    def info(self):\n",
        "        super().info()\n",
        "        print(f\"Subjek: {self.subjek}\")"
      ],
      "metadata": {
        "id": "rDkrJBn_sITa"
      },
      "execution_count": 60,
      "outputs": []
    },
    {
      "cell_type": "code",
      "source": [
        "#Program utama\n",
        "buku1 = Buku(\"B001\", \"Harry Potter and The Philosopher's Stone\", \"J.K. Rowling\", 1997)\n",
        "fiksi1 = Fiksi(\"F001\", \"The Lord of The Rings\", \"J.R.R. Tolkien\", 1954, \"Fantasi\")\n",
        "non_fiksi1 = NonFiksi(\"NF001\", \"A Brief History of Time\", \"Stephen Hawking\", 1988, \"Sains\")\n",
        "\n",
        "# mencetak informasi buku\n",
        "buku1.info()\n",
        "fiksi1.info()\n",
        "non_fiksi1.info()"
      ],
      "metadata": {
        "id": "vTjvZzu1pjM6",
        "outputId": "6dc087a0-a2f9-4fb0-d51c-673acb53e00e",
        "colab": {
          "base_uri": "https://localhost:8080/"
        }
      },
      "execution_count": 61,
      "outputs": [
        {
          "output_type": "stream",
          "name": "stdout",
          "text": [
            "Kode Buku: B001\n",
            "Judul: Harry Potter and The Philosopher's Stone\n",
            "Pengarang: J.K. Rowling\n",
            "Tahun Terbit: 1997\n",
            "Kode Buku: F001\n",
            "Judul: The Lord of The Rings\n",
            "Pengarang: J.R.R. Tolkien\n",
            "Tahun Terbit: 1954\n",
            "Genre: Fantasi\n",
            "Kode Buku: NF001\n",
            "Judul: A Brief History of Time\n",
            "Pengarang: Stephen Hawking\n",
            "Tahun Terbit: 1988\n",
            "Subjek: Sains\n"
          ]
        }
      ]
    },
    {
      "cell_type": "markdown",
      "source": [
        "## Penjelasan\n",
        "Class ........ adalah class induk dengan ............ kode buku, judul, pengarang, dan tahun terbit. Fungsi ............ dalam kelas ini mencetak informasi umum tentang buku.\n",
        "\n",
        "Class ........ mewarisi dari class .... dan memiliki .......... tambahan genre. Fungsi ........ dalam class ini memanggil fungsi deskripsi dari class ......... dan mencetak informasi tambahan tentang buku fiksi, yaitu ........\n",
        "\n",
        "Class .......... juga mewarisi dari ...... .... dan memiliki ........ ......... subjek. Fungsi deskripsi dalam class ini juga memanggil ....... deskripsi dari class induk dan mencetak informasi tambahan tentang buku non-fiksi, yaitu ........"
      ],
      "metadata": {
        "id": "S6oTzmrXnsT5"
      }
    }
  ]
}