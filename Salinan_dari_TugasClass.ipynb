{
  "nbformat": 4,
  "nbformat_minor": 0,
  "metadata": {
    "colab": {
      "provenance": [],
      "include_colab_link": true
    },
    "kernelspec": {
      "name": "python3",
      "display_name": "Python 3"
    },
    "language_info": {
      "name": "python"
    }
  },
  "cells": [
    {
      "cell_type": "markdown",
      "metadata": {
        "id": "view-in-github",
        "colab_type": "text"
      },
      "source": [
        "<a href=\"https://colab.research.google.com/github/Irsyadkyy/class_dan_obyek/blob/main/Salinan_dari_TugasClass.ipynb\" target=\"_parent\"><img src=\"https://colab.research.google.com/assets/colab-badge.svg\" alt=\"Open In Colab\"/></a>"
      ]
    },
    {
      "cell_type": "markdown",
      "source": [
        "Lengkapilah class-class berikut ini."
      ],
      "metadata": {
        "id": "V6n6i25pQnla"
      }
    },
    {
      "cell_type": "markdown",
      "source": [
        "Class Senjata memiliki 2 atribut atribut nama dan poin serta fungsi tembak(). Fungsi tembak mencetak teks \"Dorr\". Dan class senjata ini memiliki konstruktor."
      ],
      "metadata": {
        "id": "DoZvmdSTSDPa"
      }
    },
    {
      "cell_type": "code",
      "source": [
        "class Senjata:\n",
        "  def __init__(self,poin):\n",
        "    self.poin = poin\n",
        "\n",
        "  def tembak(self):\n",
        "    print(f\"Ditembak oleh pemain lain!\")"
      ],
      "metadata": {
        "id": "NYeV0w-FR6mf"
      },
      "execution_count": null,
      "outputs": []
    },
    {
      "cell_type": "code",
      "source": [
        "senjata_saya=Senjata(50)\n",
        "senjata_saya.tembak()"
      ],
      "metadata": {
        "id": "qvam8lGyCAO0",
        "outputId": "5815044f-8d9c-4723-a748-9dc8e4a4b424",
        "colab": {
          "base_uri": "https://localhost:8080/"
        }
      },
      "execution_count": null,
      "outputs": [
        {
          "output_type": "stream",
          "name": "stdout",
          "text": [
            "Ditembak oleh pemain lain!\n"
          ]
        }
      ]
    },
    {
      "cell_type": "markdown",
      "source": [
        "Class Player memiliki atribut id, nama, skor dan nyawa serta sebuah atribut bertipe objek **Senjata**. Tipe atribut silakan anda tentukan sendiri. Class Player memiliki perilaku mulai, move, set_skor dan get_skor. Class player wajib memiliki kontruktor. Fungsi move() menampilkan teks \"Bergerak\". Fungsi set_skor berfungsi untuk menambah skor dan fungsi get_skor mengembalikan nilai skor."
      ],
      "metadata": {
        "id": "LwRHn7m4SBaJ"
      }
    },
    {
      "cell_type": "code",
      "execution_count": null,
      "metadata": {
        "id": "JC6f_oE5Qhjt"
      },
      "outputs": [],
      "source": [
        "class Player:\n",
        "  def __init__(self , id=0, skor=0, nyawa=5):\n",
        "    self.id = id\n",
        "    self.nama = \"Pemanin\"\n",
        "    self.skor = skor\n",
        "    self.nyawa = 5\n",
        "    self.senjata = Senjata(10)\n",
        "\n",
        "  def move(self):\n",
        "    print(\"Bergerak\")\n",
        "\n",
        "  def set_skor(self, tambahan_skor):\n",
        "    self.skor += tambahan_skor\n",
        "\n",
        "  def get_skor(self):\n",
        "    return self.skor"
      ]
    },
    {
      "cell_type": "code",
      "source": [
        "pl=Player(id=1, skor=100)\n",
        "\n",
        "pl.move()\n",
        "pl.senjata.tembak()\n",
        "pl.set_skor(45)\n",
        "print(\"skor kamu:\", pl.get_skor())"
      ],
      "metadata": {
        "id": "sgFsJuDeEPEF",
        "outputId": "629ad187-8bf0-4cef-8d22-f0d398022742",
        "colab": {
          "base_uri": "https://localhost:8080/"
        }
      },
      "execution_count": null,
      "outputs": [
        {
          "output_type": "stream",
          "name": "stdout",
          "text": [
            "Bergerak\n",
            "Ditembak oleh pemain lain!\n",
            "skor kamu: 145\n"
          ]
        }
      ]
    },
    {
      "cell_type": "markdown",
      "source": [
        "Terakhir cobalah kedua class tersebut dengan kode program berikut ini."
      ],
      "metadata": {
        "id": "miQK-cUqKAJe"
      }
    }
  ]
}